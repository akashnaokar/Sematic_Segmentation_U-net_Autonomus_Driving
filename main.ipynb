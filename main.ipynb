{
 "cells": [
  {
   "cell_type": "code",
   "execution_count": 2,
   "metadata": {},
   "outputs": [],
   "source": [
    "import numpy as np\n",
    "import matplotlib.pyplot as plt\n",
    "import matplotlib.image as mpimg\n",
    "import os\n",
    "import cv2\n",
    "import glob\n",
    "import tensorflow as tf\n",
    "import tensorflow.keras.layers as tfl\n",
    "from tensorflow.keras.layers import Input, Conv2D, BatchNormalization, Activation, MaxPool2D, UpSampling2D, Concatenate\n",
    "from tensorflow.keras.models import Model"
   ]
  },
  {
   "cell_type": "markdown",
   "metadata": {},
   "source": [
    "# **Display images and ground truth masks**\n",
    "The data has 5 sets of 1000 images and corresponding labels."
   ]
  },
  {
   "cell_type": "code",
   "execution_count": 5,
   "metadata": {},
   "outputs": [],
   "source": [
    "def plot_images_and_masks(data_folder):\n",
    "    subfolders = ['dataA', 'dataB', 'dataC', 'dataD', 'dataE']\n",
    "    num_images_to_plot = 3\n",
    "\n",
    "    for subfolder in subfolders:\n",
    "        image_subfolder_path = os.path.join(data_folder, subfolder, subfolder, 'CameraRGB')\n",
    "        mask_subfolder_path = os.path.join(data_folder, subfolder, subfolder, 'CameraSeg')\n",
    "\n",
    "        image_files = os.listdir(image_subfolder_path) \n",
    "        mask_files = os.listdir(mask_subfolder_path)\n",
    "\n",
    "        print(len(image_files))\n",
    "\n",
    "        for i in range(num_images_to_plot):\n",
    "            image_path = os.path.join(image_subfolder_path, image_files[i])\n",
    "            mask_path = os.path.join(mask_subfolder_path, mask_files[i])\n",
    "\n",
    "            image = cv2.imread(image_path)\n",
    "            mask = cv2.imread(mask_path, cv2.IMREAD_GRAYSCALE)\n",
    "\n",
    "            plt.figure(figsize=(10, 5))\n",
    "\n",
    "            plt.subplot(1, 2, 1)\n",
    "            plt.imshow(cv2.cvtColor(image, cv2.COLOR_BGR2RGB))\n",
    "            plt.title(f'Image {i+1} - Subfolder: {subfolder}')\n",
    "            plt.axis('off')\n",
    "\n",
    "            plt.subplot(1, 2, 2)\n",
    "            plt.imshow(mask)  # Display mask in grayscale\n",
    "            plt.title(f'Mask {i+1} - Subfolder: {subfolder}')\n",
    "            plt.axis('off')\n",
    "\n",
    "            plt.show()\n"
   ]
  },
  {
   "cell_type": "code",
   "execution_count": null,
   "metadata": {},
   "outputs": [],
   "source": [
    "data_folder = \"F:\\Coding\\Sematic_Segmentation_U-net_Autonomus_Driving\\Data\\Dataset\"  #Replace with the path to the parent data folder\n",
    "plot_images_and_masks(data_folder)"
   ]
  }
 ],
 "metadata": {
  "kernelspec": {
   "display_name": "Python 3",
   "language": "python",
   "name": "python3"
  },
  "language_info": {
   "codemirror_mode": {
    "name": "ipython",
    "version": 3
   },
   "file_extension": ".py",
   "mimetype": "text/x-python",
   "name": "python",
   "nbconvert_exporter": "python",
   "pygments_lexer": "ipython3",
   "version": "3.11.6"
  }
 },
 "nbformat": 4,
 "nbformat_minor": 2
}
